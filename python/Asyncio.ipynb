{
 "cells": [
  {
   "cell_type": "markdown",
   "metadata": {},
   "source": [
    "[asyncio-basics-intermediate-python-tutorial](https://pythonprogramming.net/asyncio-basics-intermediate-python-tutorial/)"
   ]
  },
  {
   "cell_type": "code",
   "execution_count": 1,
   "metadata": {},
   "outputs": [
    {
     "name": "stdout",
     "output_type": "stream",
     "text": [
      "finding nums in range 508000 divisible by 34113\n",
      "Done w/ nums in range 508000 divisible by 34113\n",
      "finding nums in range 100052 divisible by 3210\n",
      "Done w/ nums in range 100052 divisible by 3210\n",
      "finding nums in range 500 divisible by 3\n",
      "Done w/ nums in range 500 divisible by 3\n"
     ]
    }
   ],
   "source": [
    "def find_divisibles(inrange, div_by):\n",
    "    print(\"finding nums in range {} divisible by {}\".format(inrange, div_by))\n",
    "    located = []\n",
    "    for i in range(inrange):\n",
    "        if i % div_by == 0:\n",
    "            located.append(i)\n",
    "    print(\"Done w/ nums in range {} divisible by {}\".format(inrange, div_by))\n",
    "    return located\n",
    "\n",
    "def main():\n",
    "    divs1 = find_divisibles(508000, 34113)\n",
    "    divs2 = find_divisibles(100052, 3210)\n",
    "    divs3 = find_divisibles(500, 3)\n",
    "    \n",
    "main()"
   ]
  },
  {
   "cell_type": "code",
   "execution_count": 5,
   "metadata": {},
   "outputs": [],
   "source": [
    "import asyncio\n",
    "\n",
    "async def find_divisibles(inrange, div_by):\n",
    "    print(\"finding nums in range {} divisible by {}\".format(inrange, div_by))\n",
    "    located = []\n",
    "    for i in range(inrange):\n",
    "        if i % div_by == 0:\n",
    "            located.append(i)\n",
    "        if i % 50000 == 0:\n",
    "            await asyncio.sleep(0.0001)\n",
    "\n",
    "    print(\"Done w/ nums in range {} divisible by {}\".format(inrange, div_by))\n",
    "    return located\n",
    "\n",
    "\n",
    "async def main():\n",
    "    divs1 = loop.create_task(find_divisibles(508000, 34113))\n",
    "    divs2 = loop.create_task(find_divisibles(100052, 3210))\n",
    "    divs3 = loop.create_task(find_divisibles(500, 3))\n",
    "    await asyncio.wait([divs1,divs2,divs3])\n",
    "    return divs1, divs2, divs3"
   ]
  },
  {
   "cell_type": "code",
   "execution_count": 7,
   "metadata": {},
   "outputs": [
    {
     "name": "stderr",
     "output_type": "stream",
     "text": [
      "/usr/local/lib/python3.7/site-packages/ipykernel_launcher.py:8: RuntimeWarning: coroutine 'main' was never awaited\n",
      "Coroutine created at (most recent call last)\n",
      "  File \"/usr/local/lib/python3.7/site-packages/tornado/gen.py\", line 209, in wrapper\n",
      "    yielded = next(result)\n",
      "  File \"/usr/local/lib/python3.7/site-packages/ipykernel/ipkernel.py\", line 294, in do_execute\n",
      "    res = shell.run_cell(code, store_history=store_history, silent=silent)\n",
      "  File \"/usr/local/lib/python3.7/site-packages/ipykernel/zmqshell.py\", line 536, in run_cell\n",
      "    return super(ZMQInteractiveShell, self).run_cell(*args, **kwargs)\n",
      "  File \"/usr/local/lib/python3.7/site-packages/IPython/core/interactiveshell.py\", line 2848, in run_cell\n",
      "    raw_cell, store_history, silent, shell_futures)\n",
      "  File \"/usr/local/lib/python3.7/site-packages/IPython/core/interactiveshell.py\", line 2874, in _run_cell\n",
      "    return runner(coro)\n",
      "  File \"/usr/local/lib/python3.7/site-packages/IPython/core/async_helpers.py\", line 67, in _pseudo_sync_runner\n",
      "    coro.send(None)\n",
      "  File \"/usr/local/lib/python3.7/site-packages/IPython/core/interactiveshell.py\", line 3049, in run_cell_async\n",
      "    interactivity=interactivity, compiler=compiler, result=result)\n",
      "  File \"/usr/local/lib/python3.7/site-packages/IPython/core/interactiveshell.py\", line 3214, in run_ast_nodes\n",
      "    if (yield from self.run_code(code, result)):\n",
      "  File \"/usr/local/lib/python3.7/site-packages/IPython/core/interactiveshell.py\", line 3296, in run_code\n",
      "    exec(code_obj, self.user_global_ns, self.user_ns)\n",
      "  File \"<ipython-input-7-e0baa6f7314a>\", line 4, in <module>\n",
      "    d1, d2, d3 = loop.run_until_complete(main())\n",
      "  \n",
      "RuntimeWarning: Enable tracemalloc to get the object allocation traceback\n"
     ]
    }
   ],
   "source": [
    "try:\n",
    "    loop = asyncio.get_event_loop()\n",
    "    loop.set_debug(1)\n",
    "    d1, d2, d3 = loop.run_until_complete(main())\n",
    "#     print(d1.result())\n",
    "except Exception as e:\n",
    "    # logging...etc\n",
    "    pass\n",
    "# finally:\n",
    "#     loop.close()"
   ]
  },
  {
   "cell_type": "code",
   "execution_count": null,
   "metadata": {},
   "outputs": [],
   "source": []
  }
 ],
 "metadata": {
  "kernelspec": {
   "display_name": "Python 3",
   "language": "python",
   "name": "python3"
  },
  "language_info": {
   "codemirror_mode": {
    "name": "ipython",
    "version": 3
   },
   "file_extension": ".py",
   "mimetype": "text/x-python",
   "name": "python",
   "nbconvert_exporter": "python",
   "pygments_lexer": "ipython3",
   "version": "3.7.7"
  }
 },
 "nbformat": 4,
 "nbformat_minor": 2
}
