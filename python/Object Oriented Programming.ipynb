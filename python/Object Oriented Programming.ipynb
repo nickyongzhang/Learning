{
 "cells": [
  {
   "cell_type": "markdown",
   "metadata": {},
   "source": [
    "## Pygame"
   ]
  },
  {
   "cell_type": "code",
   "execution_count": null,
   "metadata": {},
   "outputs": [],
   "source": [
    "import pygame\n",
    "import random\n",
    "from blob import Blob\n",
    "\n",
    "STARTING_BLUE_BLOBS = 10\n",
    "STARTING_RED_BLOBS = 3\n",
    "\n",
    "WIDTH = 800\n",
    "HEIGHT = 600\n",
    "WHITE = (255, 255, 255)\n",
    "BLUE = (0, 0, 255)\n",
    "RED = (255, 0, 0)\n",
    "\n",
    "game_display = pygame.display.set_mode((WIDTH,HEIGHT))\n",
    "pygame.display.set_caption('Blob World')\n",
    "clock = pygame.time.Clock()\n",
    "\n",
    "\n",
    "class BlueBlob(Blob):\n",
    "    \n",
    "    def __init__(self, color, x_boundary, y_boundary):\n",
    "        Blob.__init__(self, color, x_boundary, y_boundary)\n",
    "        self.color = BLUE\n",
    "\n",
    "    def move_fast(self):\n",
    "        self.x += random.randrange(-5,5)\n",
    "        self.y += random.randrange(-5,5)\n",
    "        \n",
    "\n",
    "def draw_environment(blob_list):\n",
    "    game_display.fill(WHITE)\n",
    "\n",
    "    for blob_dict in blob_list:\n",
    "        for blob_id in blob_dict:\n",
    "            blob = blob_dict[blob_id]\n",
    "            pygame.draw.circle(game_display, blob.color, [blob.x, blob.y], blob.size)\n",
    "            blob.move_fast()\n",
    "            blob.check_bounds()\n",
    "\n",
    "    pygame.display.update()\n",
    "    \n",
    "def main(): \n",
    "    blue_blobs = dict(enumerate([BlueBlob(BLUE,WIDTH,HEIGHT) for i in range(STARTING_BLUE_BLOBS)]))\n",
    "    red_blobs = dict(enumerate([BlueBlob(RED,WIDTH,HEIGHT) for i in range(STARTING_RED_BLOBS)]))\n",
    "    \n",
    "    while True:\n",
    "        for event in pygame.event.get():\n",
    "            if event.type == pygame.QUIT:\n",
    "                pygame.quit()\n",
    "                quit()\n",
    "        \n",
    "        draw_environment([blue_blobs,red_blobs])\n",
    "        clock.tick(60)\n",
    "\n",
    "main()"
   ]
  },
  {
   "cell_type": "code",
   "execution_count": null,
   "metadata": {},
   "outputs": [],
   "source": []
  }
 ],
 "metadata": {
  "kernelspec": {
   "display_name": "Python 3",
   "language": "python",
   "name": "python3"
  },
  "language_info": {
   "codemirror_mode": {
    "name": "ipython",
    "version": 3
   },
   "file_extension": ".py",
   "mimetype": "text/x-python",
   "name": "python",
   "nbconvert_exporter": "python",
   "pygments_lexer": "ipython3",
   "version": "3.7.7"
  }
 },
 "nbformat": 4,
 "nbformat_minor": 2
}
