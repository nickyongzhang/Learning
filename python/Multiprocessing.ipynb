{
 "metadata": {
  "language_info": {
   "codemirror_mode": {
    "name": "ipython",
    "version": 3
   },
   "file_extension": ".py",
   "mimetype": "text/x-python",
   "name": "python",
   "nbconvert_exporter": "python",
   "pygments_lexer": "ipython3",
   "version": "3.7.7-final"
  },
  "orig_nbformat": 2,
  "kernelspec": {
   "name": "python_defaultSpec_1599843808832",
   "display_name": "Python 3.7.7 64-bit"
  }
 },
 "nbformat": 4,
 "nbformat_minor": 2,
 "cells": [
  {
   "cell_type": "markdown",
   "metadata": {},
   "source": [
    "## Basics"
   ]
  },
  {
   "cell_type": "code",
   "execution_count": 1,
   "metadata": {
    "tags": []
   },
   "outputs": [
    {
     "output_type": "stream",
     "name": "stdout",
     "text": "Spawned\nSpawned\nSpawned\nSpawned\nSpawned\n"
    }
   ],
   "source": [
    "import multiprocessing\n",
    "\n",
    "def spawn():\n",
    "    print('Spawned')\n",
    "\n",
    "for i in range(5):\n",
    "    p = multiprocessing.Process(target=spawn)\n",
    "    p.start()\n",
    "    p.join() # wit for the process to end"
   ]
  },
  {
   "cell_type": "code",
   "execution_count": 2,
   "metadata": {
    "tags": []
   },
   "outputs": [
    {
     "output_type": "stream",
     "name": "stdout",
     "text": "Spawn # 0\nSpawn # 2\nSpawn # 1\nSpawn # 4\nSpawn # 3\n"
    }
   ],
   "source": [
    "def spawn(num):\n",
    "    print('Spawn # {}'.format(num))\n",
    "\n",
    "for i in range(5):\n",
    "    p = multiprocessing.Process(target=spawn, args=(i,))\n",
    "    p.start()\n"
   ]
  },
  {
   "cell_type": "markdown",
   "metadata": {},
   "source": [
    "Notice as well that these spawns aren't in any order. The processes might complete at different times. If you need order, you should make use of .join"
   ]
  },
  {
   "cell_type": "markdown",
   "metadata": {},
   "source": [
    "## Getting values"
   ]
  },
  {
   "cell_type": "code",
   "execution_count": 3,
   "metadata": {
    "tags": []
   },
   "outputs": [
    {
     "output_type": "stream",
     "name": "stdout",
     "text": "[0, 2, 4, 6, 8, 10, 12, 14, 16, 18, 20, 22, 24, 26, 28, 30, 32, 34, 36, 38]\n"
    }
   ],
   "source": [
    "from multiprocessing import Pool\n",
    "\n",
    "def job(num):\n",
    "    return num*2\n",
    "\n",
    "p = Pool(processes=20)\n",
    "data = p.map(job, range(20))\n",
    "p.close()\n",
    "print(data)"
   ]
  },
  {
   "cell_type": "markdown",
   "metadata": {},
   "source": [
    "## Spider"
   ]
  },
  {
   "cell_type": "code",
   "execution_count": 1,
   "metadata": {},
   "outputs": [],
   "source": [
    "from multiprocessing import Pool\n",
    "import bs4 as bs\n",
    "import random\n",
    "import requests\n",
    "import string"
   ]
  },
  {
   "cell_type": "code",
   "execution_count": null,
   "metadata": {},
   "outputs": [],
   "source": [
    "def random_starting_url():\n",
    "    starting = ''.join(random.SystemRandom().choice(string.ascii_lowercase) for _ in range(3))\n",
    "    url = ''.join([f'http://{starting}.com'])\n",
    "    return url\n",
    "\n",
    "def handle_local_links(url, link):\n",
    "    if link.startswith('/'):\n",
    "        return ''.join([url, link])\n",
    "    else:\n",
    "        return link\n",
    "    \n",
    "def get_links(url):\n",
    "    try:\n",
    "        resp = requests.get(url)\n",
    "        soup = bs.BeautifulSoup(resp.text, 'lxml')\n",
    "        body = soup.body\n",
    "        links = [link.get('href') for link in body.find_all('a')]\n",
    "        links = [handle_local_links(url, link) for link in links]\n",
    "        links = [str(link.encode('ascii')) for link in links]\n",
    "        return links\n",
    "\n",
    "    except TabError as e:\n",
    "        print(e)\n",
    "        print('Got a TypeError, probably got a None that we tried to iterate over')\n",
    "        return []\n",
    "    except IndexError as e:\n",
    "        print(e)\n",
    "        print('We probably did not find any useful links, return empty list')\n",
    "        return []\n",
    "    except AttributeError as e:\n",
    "        print(e)\n",
    "        print('Likely got None for the links, so we are throwing this')\n",
    "        return []\n",
    "    except Exception as e:\n",
    "        print(str(e))\n",
    "        # log this error \n",
    "        return []\n",
    "\n",
    "def main():\n",
    "    how_many = 50\n",
    "    p = Pool(processes=how_many)\n",
    "    parse_us = [random_starting_url() for _ in range(how_many)]\n",
    "\n",
    "    data = p.map(get_links, [link for link in parse_us])\n",
    "    data = [url for url_list in data for url in url_list]\n",
    "    p.close()\n",
    "\n",
    "    with open('urls.txt','w') as f:\n",
    "        f.write(str(data))\n",
    "\n",
    "main()"
   ]
  },
  {
   "cell_type": "code",
   "execution_count": null,
   "metadata": {},
   "outputs": [],
   "source": []
  }
 ]
}