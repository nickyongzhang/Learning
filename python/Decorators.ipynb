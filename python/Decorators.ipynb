{
 "cells": [
  {
   "cell_type": "markdown",
   "metadata": {},
   "source": [
    "# Decorator\n",
    "Decorators work as wrappers, modifying the behavior of the code before and after a target function execution, without the need to modify the function itself, augmenting the original functionality, thus decorating it."
   ]
  },
  {
   "cell_type": "markdown",
   "metadata": {},
   "source": [
    "## Basic knowledge about functions"
   ]
  },
  {
   "cell_type": "code",
   "execution_count": 3,
   "metadata": {},
   "outputs": [
    {
     "name": "stdout",
     "output_type": "stream",
     "text": [
      "hello John\n"
     ]
    }
   ],
   "source": [
    "# assign fucntions to variables\n",
    "def greet(name):\n",
    "    return('hello '+name)\n",
    "\n",
    "greet_someone = greet\n",
    "print(greet_someone('John'))"
   ]
  },
  {
   "cell_type": "code",
   "execution_count": 4,
   "metadata": {},
   "outputs": [
    {
     "name": "stdout",
     "output_type": "stream",
     "text": [
      "hello John\n"
     ]
    }
   ],
   "source": [
    "# Define functions inside other functions\n",
    "def greet(name):\n",
    "    def get_message():\n",
    "        return 'hello '\n",
    "    \n",
    "    result=get_message()+name\n",
    "    return result\n",
    "print(greet('John'))"
   ]
  },
  {
   "cell_type": "code",
   "execution_count": 5,
   "metadata": {},
   "outputs": [
    {
     "name": "stdout",
     "output_type": "stream",
     "text": [
      "hello John\n"
     ]
    }
   ],
   "source": [
    "# Functions can be passed as parameters to otehr functions\n",
    "def greet(name):\n",
    "    return 'hello '+name\n",
    "\n",
    "def call_func(func):\n",
    "    other_name = 'John'\n",
    "    return func(other_name)\n",
    "\n",
    "print(call_func(greet))"
   ]
  },
  {
   "cell_type": "code",
   "execution_count": 6,
   "metadata": {},
   "outputs": [
    {
     "name": "stdout",
     "output_type": "stream",
     "text": [
      "Hello there!\n"
     ]
    }
   ],
   "source": [
    "# Functions can return other functions\n",
    "def compose_greet_func():\n",
    "    def get_message():\n",
    "        return 'Hello there!'\n",
    "    \n",
    "    return get_message\n",
    "\n",
    "greet = compose_greet_func()\n",
    "print(greet())"
   ]
  },
  {
   "cell_type": "code",
   "execution_count": 8,
   "metadata": {},
   "outputs": [
    {
     "name": "stdout",
     "output_type": "stream",
     "text": [
      "Hello there John!\n"
     ]
    }
   ],
   "source": [
    "# Inner funcitnos have access to the enclosing scope\n",
    "def compose_greet_func(name):\n",
    "    def get_message():\n",
    "        return 'Hello there '+name+'!'\n",
    "    \n",
    "    return get_message\n",
    "\n",
    "greet = compose_greet_func('John')\n",
    "print(greet())"
   ]
  },
  {
   "cell_type": "markdown",
   "metadata": {},
   "source": [
    "## Composition of Decorators"
   ]
  },
  {
   "cell_type": "code",
   "execution_count": 10,
   "metadata": {},
   "outputs": [
    {
     "name": "stdout",
     "output_type": "stream",
     "text": [
      "<p>lorem ipsum, John dolor sit amet</p>\n"
     ]
    }
   ],
   "source": [
    "def get_text(name):\n",
    "    return \"lorem ipsum, {0} dolor sit amet\".format(name)\n",
    "\n",
    "def p_decorate(func):\n",
    "    def func_wrapper(name):\n",
    "        return '<p>{0}</p>'.format(func(name))\n",
    "    return func_wrapper\n",
    "\n",
    "my_get_text = p_decorate(get_text)\n",
    "print(my_get_text('John'))"
   ]
  },
  {
   "cell_type": "code",
   "execution_count": 11,
   "metadata": {},
   "outputs": [
    {
     "name": "stdout",
     "output_type": "stream",
     "text": [
      "<p>lorem ipsum, John dolor sit amet</p>\n"
     ]
    }
   ],
   "source": [
    "get_text = p_decorate(get_text)\n",
    "print(get_text('John'))"
   ]
  },
  {
   "cell_type": "markdown",
   "metadata": {},
   "source": [
    "## Python's Decorator Syntax"
   ]
  },
  {
   "cell_type": "code",
   "execution_count": 15,
   "metadata": {},
   "outputs": [
    {
     "name": "stdout",
     "output_type": "stream",
     "text": [
      "<div><p><strong>lorem ipsum, John dolor sit amet</strong></p></div>\n"
     ]
    }
   ],
   "source": [
    "def get_text(name):\n",
    "    return \"lorem ipsum, {0} dolor sit amet\".format(name)\n",
    "\n",
    "def p_decorate(func):\n",
    "    def func_wrapper(name):\n",
    "        return \"<p>{0}</p>\".format(func(name))\n",
    "    return func_wrapper\n",
    "\n",
    "def strong_decorate(func):\n",
    "    def func_wrapper(name):\n",
    "        return \"<strong>{0}</strong>\".format(func(name))\n",
    "    return func_wrapper\n",
    "\n",
    "def div_decorate(func):\n",
    "    def func_wrapper(name):\n",
    "        return \"<div>{0}</div>\".format(func(name))\n",
    "    return func_wrapper\n",
    "    \n",
    "get_text = div_decorate(p_decorate(strong_decorate(get_text)))\n",
    "print(get_text('John'))"
   ]
  },
  {
   "cell_type": "markdown",
   "metadata": {},
   "source": [
    "The above tedious functions can be achieved with much more expressive power using python decorator syntax"
   ]
  },
  {
   "cell_type": "code",
   "execution_count": 17,
   "metadata": {},
   "outputs": [
    {
     "name": "stdout",
     "output_type": "stream",
     "text": [
      "<div><p><strong>lorem ipsum, John dolor sit amet</strong></p></div>\n"
     ]
    }
   ],
   "source": [
    "@div_decorate\n",
    "@p_decorate\n",
    "@strong_decorate\n",
    "def get_text(name):\n",
    "   return \"lorem ipsum, {0} dolor sit amet\".format(name)\n",
    "\n",
    "print(get_text(\"John\"))"
   ]
  },
  {
   "cell_type": "markdown",
   "metadata": {},
   "source": [
    "One important thing to notice here is that the order of setting our decorators matters. If the order was different in the example above, the output would have been different.\n"
   ]
  },
  {
   "cell_type": "markdown",
   "metadata": {},
   "source": [
    "## Decorateing Methods\n",
    "In Python, methods are functions that expect their first parameter to be a reference to the current object. We can build decorators for methods the same way, while taking self into consideration in the wrapper function."
   ]
  },
  {
   "cell_type": "code",
   "execution_count": 18,
   "metadata": {},
   "outputs": [
    {
     "name": "stdout",
     "output_type": "stream",
     "text": [
      "<p>John Doe</p>\n"
     ]
    }
   ],
   "source": [
    "def p_decorate(func):\n",
    "   def func_wrapper(self):\n",
    "       return \"<p>{0}</p>\".format(func(self))\n",
    "   return func_wrapper\n",
    "\n",
    "class Person(object):\n",
    "    def __init__(self):\n",
    "        self.name = \"John\"\n",
    "        self.family = \"Doe\"\n",
    "\n",
    "    @p_decorate\n",
    "    def get_fullname(self):\n",
    "        return self.name+\" \"+self.family\n",
    "\n",
    "my_person = Person()\n",
    "print(my_person.get_fullname())"
   ]
  },
  {
   "cell_type": "markdown",
   "metadata": {},
   "source": [
    "A much better approach would be to make our decorator useful for functions and methods alike. This can be done by putting args and *kwargs as parameters for the wrapper, then it can accept any arbitrary number of arguments and keyword arguments."
   ]
  },
  {
   "cell_type": "code",
   "execution_count": 19,
   "metadata": {},
   "outputs": [
    {
     "name": "stdout",
     "output_type": "stream",
     "text": [
      "<p>John Doe</p>\n"
     ]
    }
   ],
   "source": [
    "def p_decorate(func):\n",
    "    def func_wrapper(*args, **kwargs):\n",
    "        return \"<p>{0}</p>\".format(func(*args,**kwargs))\n",
    "    return func_wrapper\n",
    "\n",
    "class Person(object):\n",
    "    def __init__(self):\n",
    "        self.name = 'John'\n",
    "        self.family = 'Doe'\n",
    "        \n",
    "    @p_decorate\n",
    "    def get_fullname(self):\n",
    "        return self.name+\" \"+self.family\n",
    "    \n",
    "my_person = Person()\n",
    "print(my_person.get_fullname())"
   ]
  },
  {
   "cell_type": "markdown",
   "metadata": {},
   "source": [
    "## Passing auguments to decorators"
   ]
  },
  {
   "cell_type": "code",
   "execution_count": 22,
   "metadata": {},
   "outputs": [
    {
     "name": "stdout",
     "output_type": "stream",
     "text": [
      "<p>hello John</p>\n"
     ]
    }
   ],
   "source": [
    "def tags(tag_name):\n",
    "    def tags_decorator(func):\n",
    "        def func_wrapper(name):\n",
    "            return \"<{0}>{1}</{0}>\".format(tag_name,func(name))\n",
    "        return func_wrapper\n",
    "    return tags_decorator\n",
    "\n",
    "@tags(\"p\")\n",
    "def get_text(name):\n",
    "    return \"hello \"+name\n",
    "\n",
    "print(get_text('John'))"
   ]
  },
  {
   "cell_type": "markdown",
   "metadata": {},
   "source": [
    "## Debugging decorated functions"
   ]
  },
  {
   "cell_type": "code",
   "execution_count": 23,
   "metadata": {},
   "outputs": [
    {
     "name": "stdout",
     "output_type": "stream",
     "text": [
      "func_wrapper\n"
     ]
    }
   ],
   "source": [
    "print(get_text.__name__)"
   ]
  },
  {
   "cell_type": "code",
   "execution_count": 25,
   "metadata": {},
   "outputs": [
    {
     "name": "stdout",
     "output_type": "stream",
     "text": [
      "get_text\n",
      "returns some text\n",
      "__main__\n"
     ]
    }
   ],
   "source": [
    "from functools import wraps\n",
    "\n",
    "def tags(tag_name):\n",
    "    def tags_decorator(func):\n",
    "        @wraps(func)\n",
    "        def func_wrapper(name):\n",
    "            return \"<{0}>{1}</{0}>\".format(tag_name,func(name))\n",
    "        return func_wrapper\n",
    "    return tags_decorator\n",
    "\n",
    "@tags('p')\n",
    "def get_text(name):\n",
    "    \"\"\"returns some text\"\"\"\n",
    "    return 'hello '+name\n",
    "\n",
    "print(get_text.__name__)\n",
    "print(get_text.__doc__)\n",
    "print(get_text.__module__)"
   ]
  },
  {
   "cell_type": "code",
   "execution_count": null,
   "metadata": {},
   "outputs": [],
   "source": []
  },
  {
   "cell_type": "code",
   "execution_count": null,
   "metadata": {},
   "outputs": [],
   "source": []
  },
  {
   "cell_type": "code",
   "execution_count": 10,
   "metadata": {},
   "outputs": [
    {
     "name": "stdout",
     "output_type": "stream",
     "text": [
      "a beautifully wrapped up box of a new Tesla P100 GPU\n",
      "new_gpu\n"
     ]
    }
   ],
   "source": [
    "from functools import wraps\n",
    "\n",
    "def add_wrapping_with_style(style):\n",
    "    def add_wrapping(item):\n",
    "        @wraps(item)\n",
    "        def wrapped_item():\n",
    "            return 'a {} wrapped up box of {}'.format(style,str(item()))\n",
    "        return wrapped_item\n",
    "    return add_wrapping\n",
    "\n",
    "@add_wrapping_with_style('beautifully')\n",
    "def new_gpu():\n",
    "    return 'a new Tesla P100 GPU'\n",
    "\n",
    "print(new_gpu())\n",
    "print(new_gpu.__name__)"
   ]
  },
  {
   "cell_type": "code",
   "execution_count": null,
   "metadata": {},
   "outputs": [],
   "source": []
  },
  {
   "cell_type": "code",
   "execution_count": null,
   "metadata": {},
   "outputs": [],
   "source": []
  },
  {
   "cell_type": "code",
   "execution_count": null,
   "metadata": {},
   "outputs": [],
   "source": []
  }
 ],
 "metadata": {
  "kernelspec": {
   "display_name": "Python 3",
   "language": "python",
   "name": "python3"
  },
  "language_info": {
   "codemirror_mode": {
    "name": "ipython",
    "version": 3
   },
   "file_extension": ".py",
   "mimetype": "text/x-python",
   "name": "python",
   "nbconvert_exporter": "python",
   "pygments_lexer": "ipython3",
   "version": "3.7.7"
  }
 },
 "nbformat": 4,
 "nbformat_minor": 2
}
