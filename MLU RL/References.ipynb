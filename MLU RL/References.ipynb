{
 "cells": [
  {
   "cell_type": "markdown",
   "metadata": {},
   "source": [
    "A CONCEPTUAL INTRODUCTION TO POLICY GRADIENT METHODSRL (Phil Talbot Post)\n",
    "https://www.neuralnet.ai/a-conceptual-introduction-to-policy-gradient-methods/"
   ]
  },
  {
   "cell_type": "markdown",
   "metadata": {},
   "source": [
    "Introduction to RL (Lil'Log Post)\n",
    "https://lilianweng.github.io/lil-log/2018/02/19/a-long-peek-into-reinforcement-learning.html#key-concepts"
   ]
  },
  {
   "cell_type": "markdown",
   "metadata": {},
   "source": [
    "Multi-Armed Bandits (Lil'Log Post)\n",
    "https://lilianweng.github.io/lil-log/2018/01/23/the-multi-armed-bandit-problem-and-its-solutions.html"
   ]
  },
  {
   "cell_type": "code",
   "execution_count": null,
   "metadata": {},
   "outputs": [],
   "source": [
    "Massimiliano Patacchiola Blog on RL\n",
    "https://mpatacchiola.github.io/blog/"
   ]
  },
  {
   "cell_type": "markdown",
   "metadata": {},
   "source": [
    "Policy Gradient\n",
    "https://medium.com/@jonathan_hui/rl-policy-gradients-explained-advanced-topic-20c2b81a9a8b"
   ]
  },
  {
   "cell_type": "markdown",
   "metadata": {},
   "source": [
    "medium: Part 3 — Tabular Q Learning, a Tic Tac Toe player that gets better and better\n",
    "https://medium.com/@carsten.friedrich/part-3-tabular-q-learning-a-tic-tac-toe-player-that-gets-better-and-better-fa4da4b0892a"
   ]
  },
  {
   "cell_type": "markdown",
   "metadata": {},
   "source": [
    "AWS: Automating financial decision making with deep reinforcement learning\n",
    "https://aws.amazon.com/blogs/machine-learning/automated-decision-making-with-deep-reinforcement-learning/"
   ]
  },
  {
   "cell_type": "markdown",
   "metadata": {},
   "source": [
    "Reinforcement learning (RL) 101 with Python\n",
    "https://towardsdatascience.com/reinforcement-learning-rl-101-with-python-e1aa0d37d43b\n",
    "    "
   ]
  },
  {
   "cell_type": "markdown",
   "metadata": {},
   "source": [
    "The Multi-Armed Bandit Problem and Its Solutions\n",
    "https://lilianweng.github.io/lil-log/2018/01/23/the-multi-armed-bandit-problem-and-its-solutions.html"
   ]
  },
  {
   "cell_type": "markdown",
   "metadata": {},
   "source": [
    "### Useful Notebook References\n",
    "Introduction to RL (Lil'Log Post) \n",
    "https://lilianweng.github.io/lil-log/2018/02/19/a-long-peek-into-reinforcement-learning.html#key-concepts\n",
    "Multi-Armed Bandits (Lil'Log Post)\n",
    "https://lilianweng.github.io/lil-log/2018/01/23/the-multi-armed-bandit-problem-and-its-solutions.html\n",
    "Massimiliano Patacchiola Blog on RL\n",
    "https://mpatacchiola.github.io/blog/\n",
    "Policy Gradient\n",
    "https://medium.com/@jonathan_hui/rl-policy-gradients-explained-advanced-topic-20c2b81a9a8b\n",
    "medium: Part 3 — Tabular Q Learning, a Tic Tac Toe player that gets better and better\n",
    "https://medium.com/@carsten.friedrich/part-3-tabular-q-learning-a-tic-tac-toe-player-that-gets-better-and-better-fa4da4b0892a\n",
    "AWS: Automating financial decision making with deep reinforcement learning\n",
    "https://aws.amazon.com/blogs/machine-learning/automated-decision-making-with-deep-reinforcement-learning/\n",
    "Reinforcement learning (RL) 101 with Python\n",
    "https://towardsdatascience.com/reinforcement-learning-rl-101-with-python-e1aa0d37d43b\n"
   ]
  },
  {
   "cell_type": "code",
   "execution_count": null,
   "metadata": {},
   "outputs": [],
   "source": []
  }
 ],
 "metadata": {
  "kernelspec": {
   "display_name": "conda_amazonei_tensorflow_p36",
   "language": "python",
   "name": "conda_amazonei_tensorflow_p36"
  },
  "language_info": {
   "codemirror_mode": {
    "name": "ipython",
    "version": 3
   },
   "file_extension": ".py",
   "mimetype": "text/x-python",
   "name": "python",
   "nbconvert_exporter": "python",
   "pygments_lexer": "ipython3",
   "version": "3.6.5"
  }
 },
 "nbformat": 4,
 "nbformat_minor": 4
}
