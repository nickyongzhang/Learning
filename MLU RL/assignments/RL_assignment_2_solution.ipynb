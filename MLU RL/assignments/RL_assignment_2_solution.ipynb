{
 "cells": [
  {
   "cell_type": "markdown",
   "metadata": {},
   "source": [
    "![MLU Logo](https://drive.corp.amazon.com/view/bwernes@/MLU_Logo.png?download=true)"
   ]
  },
  {
   "cell_type": "markdown",
   "metadata": {},
   "source": [
    "# Reinforcement Learning\n",
    "# Assignment 2 with Solution\n",
    "## Introduction\n",
    "Welcome to the second RL assignment.  This week, we'll dive in to Model-Free Prediction & Control with Temporal Difference (TD) and Q-Learning. See how it is implemented. <br/>\n",
    "TD-Learning is a combination of Monte Carlo and Dynamic Programming ideas. Like Monte Carlo, TD works based on samples and doesn't require a model of the environment.<br/>\n",
    "You will be implementing an example of Off-Policy TD Control (SARSA) and another of On-policy TD Control (Q-Learning).  \n",
    "\n",
    "## Resources\n",
    "I've always found experience the best teacher, so I advocate just diving in and trying to implement things.  However, it is always good to have other sources to reference, so every week I'll place links to things that I think are helpful to learn the material.\n",
    "* [Chapters 7 and 12 of this book](http://incompleteideas.net/book/bookdraft2018jan1.pdf) about Multi-Step Bootstrapping and Eligibility Traces is nice."
   ]
  },
  {
   "cell_type": "markdown",
   "metadata": {},
   "source": [
    "## the Cliff Walking problem\n",
    "For implementing your Q-learning algorithm we are going to use the Cliff Walking problem. \n",
    "\n"
   ]
  },
  {
   "cell_type": "markdown",
   "metadata": {},
   "source": [
    "### Introduction (Q-Leaning)\n",
    "Start by constructing a table that measure how good is to take a specific action at any state (we can measure this by using a simple scalar value, so the greater the value the better the action) These are the **Q-values**. <br/>\n",
    "**Q-values** are estimates of the sum of future rewards. <br/>\n",
    "In other words, they estimate how much more reward we can win until the end of the game being at state S and taking action A. <br/>\n",
    "For our **Cliff Walking problem**, this table will have one row for each state and one column for each action. Our grid world has 48 (4 x 12) states and 4 actions are allowed **(right, left, up, down)**, so the table would be 48 x 4.\n",
    "<img src=\"../images/cliff-walking.png\" alt=\"Drawing\" style=\"width: 500px;\"/>\n",
    "\n",
    "Will need to initialize it with random values (or some constant, e.g. all zeroes). <br/>\n",
    "The optimal Q-table has values that allow us to take the best action at every state, giving us the best path to victory!\n",
    "The Q-learning algorithm 'learns' these values. At every step we gain more information about the world and this information is used to update the values in the table. <br/>\n",
    "For example, suppose we are one step away from the goal **(square [2, 11])**, if we choose to go down we’ll receive a reward of 0 instead of -1.\n",
    "We can use this information to update the value of this state-action pair in our table so that the next time we visit it we already know that going down gives us a reward of 0.<br/>\n",
    "Now we can propagate this information even further! <br/>\n",
    "Since we now know the path to the goal from square [2, 11], any action that takes us to square [2, 11] will also be good, so we update the Q-value of the square that lead us to [2, 11] to be closer to 0.<br/>\n",
    "Note that every time we reach the goal we increase our “map” of how to reach the goal by one square, so after a sufficient number of iterations we’ll have a complete map, that will show us how to get to the goal from every state. <br/>\n",
    "ref. https://medium.com/@lgvaz/understanding-q-learning-the-cliff-walking-problem-80198921abbc"
   ]
  },
  {
   "cell_type": "markdown",
   "metadata": {},
   "source": [
    "### Bellman Equation\n",
    "The equation states that the Q value for a certain state-action pair should be the reward gained by the moving to the new state (by executing that action) added to the value of the best action in the next state:\n",
    "<img src=\"../images/bellman_equation.png\" alt=\"Drawing\" style=\"width: 300px;\"/>\n",
    "We might think that receiving a reward right now is more valuable than receiving a reward on the future, and that’s why we have γ, a number between 0 and 1 (generally between 0.9 and 0.99) that get’s multiplied to the future reward, making future rewards discounted.<br/>\n",
    "As an example, considering γ = 0.9 and applying this to some states of our grid world we have:\n",
    "<img src=\"../images/bellman_example.png\" alt=\"Drawing\" style=\"width: 500px;\"/>\n"
   ]
  },
  {
   "cell_type": "markdown",
   "metadata": {},
   "source": [
    "### The Cliff Walking Environment\n",
    "The next cells implement the class GridWorld for the Cliff Walking problem that you are going to use. <br/>\n",
    "We will define the numerical values for the actions (UP, DOWN, RIGHT, LEFT). <br/>\n",
    "When we instantiate the environment, the class shows see the initial grid.\n",
    "Take some time to explore the atributes and functions offered by the class to act on the environment before going to solve the questions."
   ]
  },
  {
   "cell_type": "code",
   "execution_count": 1,
   "metadata": {},
   "outputs": [],
   "source": [
    "%matplotlib inline\n",
    "import numpy as np\n",
    "import pandas as pd\n",
    "import matplotlib.pyplot as plt\n",
    "from matplotlib.colors import hsv_to_rgb\n",
    "import seaborn as sns"
   ]
  },
  {
   "cell_type": "code",
   "execution_count": 2,
   "metadata": {},
   "outputs": [],
   "source": [
    "def change_range(values, vmin=0, vmax=1):\n",
    "    start_zero = values - np.min(values)\n",
    "    return (start_zero / (np.max(start_zero) + 1e-7)) * (vmax - vmin) + vmin"
   ]
  },
  {
   "cell_type": "code",
   "execution_count": 3,
   "metadata": {},
   "outputs": [],
   "source": [
    "class GridWorld:\n",
    "    terrain_color = dict(normal=[127/360, 0, 96/100],\n",
    "                         objective=[26/360, 100/100, 100/100],\n",
    "                         cliff=[247/360, 92/100, 70/100],\n",
    "                         player=[344/360, 93/100, 100/100])\n",
    "        \n",
    "    def __init__(self):\n",
    "        self.player = None\n",
    "        self._create_grid()  \n",
    "        self._draw_grid()\n",
    "        \n",
    "    def _create_grid(self, initial_grid=None):\n",
    "        self.grid = self.terrain_color['normal'] * np.ones((4, 12, 3))\n",
    "        self._add_objectives(self.grid)\n",
    "        \n",
    "    def _add_objectives(self, grid):\n",
    "        grid[-1, 1:11] = self.terrain_color['cliff']\n",
    "        grid[-1, -1] = self.terrain_color['objective']\n",
    "        \n",
    "    def _draw_grid(self):\n",
    "        self.fig, self.ax = plt.subplots(figsize=(12, 4))\n",
    "        self.ax.grid(which='minor')       \n",
    "        self.q_texts = [self.ax.text(*self._id_to_position(i)[::-1], '0',\n",
    "                                     fontsize=11, verticalalignment='center', \n",
    "                                     horizontalalignment='center') for i in range(12 * 4)]     \n",
    "         \n",
    "        self.im = self.ax.imshow(hsv_to_rgb(self.grid), cmap='terrain',\n",
    "                                 interpolation='nearest', vmin=0, vmax=1)        \n",
    "        self.ax.set_xticks(np.arange(12))\n",
    "        self.ax.set_xticks(np.arange(12) - 0.5, minor=True)\n",
    "        self.ax.set_yticks(np.arange(4))\n",
    "        self.ax.set_yticks(np.arange(4) - 0.5, minor=True)\n",
    "        \n",
    "    def reset(self):\n",
    "        self.player = (3, 0) \n",
    "        #print(\"INITIAL POSITION: {}, STATE: {}\".format(self.player,self._position_to_id(self.player)))\n",
    "        return self._position_to_id(self.player), self.player\n",
    "    \n",
    "    def step(self, action):\n",
    "        # Possible actions\n",
    "        if action == 0 and self.player[0] > 0:\n",
    "            self.player = (self.player[0] - 1, self.player[1])\n",
    "        if action == 1 and self.player[0] < 3:\n",
    "            self.player = (self.player[0] + 1, self.player[1])\n",
    "        if action == 2 and self.player[1] < 11:\n",
    "            self.player = (self.player[0], self.player[1] + 1)\n",
    "        if action == 3 and self.player[1] > 0:\n",
    "            self.player = (self.player[0], self.player[1] - 1)\n",
    "            \n",
    "        # Rules\n",
    "        if all(self.grid[self.player] == self.terrain_color['cliff']):\n",
    "            reward = -100\n",
    "            done = True\n",
    "        elif all(self.grid[self.player] == self.terrain_color['objective']):\n",
    "            reward = 0\n",
    "            done = True\n",
    "        else:\n",
    "            reward = -1\n",
    "            done = False\n",
    "        #print(\"NEXT STATE: {}\".format(self.player))\n",
    "        \n",
    "        return self.player, self._position_to_id(self.player), reward, done\n",
    "    \n",
    "    def _position_to_id(self, pos):\n",
    "        ''' Maps a position in x,y coordinates to a unique ID '''\n",
    "        return pos[0] * 12 + pos[1]\n",
    "    \n",
    "    def _id_to_position(self, idx):\n",
    "        return (idx // 12), (idx % 12)\n",
    "        \n",
    "    def render(self, q_values=None, action=None, max_q=False, colorize_q=False):\n",
    "        assert self.player is not None, 'You first need to call .reset()'  \n",
    "        \n",
    "        if colorize_q:\n",
    "            assert q_values is not None, 'q_values must not be None for using colorize_q'            \n",
    "            grid = self.terrain_color['normal'] * np.ones((4, 12, 3))\n",
    "            values = change_range(np.max(q_values, -1)).reshape(4, 12)\n",
    "            grid[:, :, 1] = values\n",
    "            self._add_objectives(grid)\n",
    "        else:            \n",
    "            grid = self.grid.copy()\n",
    "            \n",
    "        grid[self.player] = self.terrain_color['player']       \n",
    "        self.im.set_data(hsv_to_rgb(grid))\n",
    "               \n",
    "        if q_values is not None:\n",
    "            xs = np.repeat(np.arange(12), 4)\n",
    "            ys = np.tile(np.arange(4), 12)  \n",
    "            \n",
    "            for i, text in enumerate(self.q_texts):\n",
    "                if max_q:\n",
    "                    q = max(q_values[i])    \n",
    "                    txt = '{:.2f}'.format(q)\n",
    "                    text.set_text(txt)\n",
    "                else:                \n",
    "                    actions = ['U', 'D', 'R', 'L']\n",
    "                    txt = '\\n'.join(['{}: {:.2f}'.format(k, q) for k, q in zip(actions, q_values[i])])\n",
    "                    text.set_text(txt)\n",
    "                \n",
    "        if action is not None:\n",
    "            self.ax.set_title(action, color='r', weight='bold', fontsize=32)\n",
    "\n",
    "        plt.pause(0.01)"
   ]
  },
  {
   "cell_type": "code",
   "execution_count": 4,
   "metadata": {},
   "outputs": [],
   "source": [
    "UP = 0\n",
    "DOWN = 1\n",
    "RIGHT = 2\n",
    "LEFT = 3\n",
    "actions = ['UP', 'DOWN', 'RIGHT', 'LEFT']"
   ]
  },
  {
   "cell_type": "code",
   "execution_count": 5,
   "metadata": {},
   "outputs": [
    {
     "data": {
      "image/png": "[encoded data removed]",
      "text/plain": [
       "<Figure size 864x288 with 1 Axes>"
      ]
     },
     "metadata": {
      "needs_background": "light"
     },
     "output_type": "display_data"
    }
   ],
   "source": [
    "env = GridWorld()"
   ]
  },
  {
   "cell_type": "markdown",
   "metadata": {},
   "source": [
    "# PART 1 - Off Policy TD Control"
   ]
  },
  {
   "cell_type": "markdown",
   "metadata": {},
   "source": [
    "**Off Policy** means that the learning agent learns the value function according to the action derived from another policy.<br/>\n",
    "\n",
    "We consider that: \n",
    "+ **Update policy** is how your agent learns the optimal policy.\n",
    "+ **Behavior policy** is how your agent behaves.\n",
    "\n",
    "In Q-Learning, the agent learns optimal policy using absolute greedy policy and behaves using other policies such as ϵ-greedy policy. \n",
    "\n",
    "As the *update policy* is different to the *behavior policy*, Q-learning is called **Off-policy**."
   ]
  },
  {
   "cell_type": "markdown",
   "metadata": {},
   "source": [
    "## Question 1\n",
    "Implement a Q-Learning function that runs for **500 episodes**, with **exploration rate** = 0.1, **learning rate** = 0.5 and **gamma** = 0.9. <br/>\n",
    "This function should return a list with the **sum of rewards of each episode** and the **final Q-value table**.<br/>\n",
    "Execute the function and use its returns to:\n",
    "+ Print the mean of rewards for all episode\n",
    "+ Print the Q-value table\n",
    "\n",
    "You are going to use the Q-learning pseudo-code from Sutton’s book as a guide.\n",
    "<img src=\"../images/Q-learning.png\" alt=\"Drawing\" style=\"width: 700px;\"/>"
   ]
  },
  {
   "cell_type": "markdown",
   "metadata": {},
   "source": [
    "#### Notes\n",
    "+ First it says “For all states and actions initialize Q(s,a) arbitrarily”, this means you could create your Q-values table with any values you like, they can be random, they can be some constant, doesn’t matter.\n",
    "\n",
    "+ It also says “Q value for terminal states equals zero”. you can’t take any actions at terminals states, so we consider the value for all actions on that state to be zero.\n",
    "\n",
    "+ To perform the actions and get the needed values from the Cliff Walking environment, use the functions offered by the class, like reset, step, etc.\n",
    "+ Also, use the **egreedy_policy** function below in your algorithm."
   ]
  },
  {
   "cell_type": "code",
   "execution_count": 6,
   "metadata": {},
   "outputs": [],
   "source": [
    "def egreedy_policy(q_values, state, epsilon=0.1):\n",
    "    \"\"\" \n",
    "    Choose an action based on a epsilon greedy policy.    \n",
    "    A random action is selected with epsilon probability, else select the best action.\n",
    "            \n",
    "    Args:\n",
    "        q_values: Q-value table.\n",
    "        state: current state (in the format of the first value returned by the step function in the GridWorld class. \n",
    "        epsilon: The epsilon probability.\n",
    "                        \n",
    "    Returns:\n",
    "        The best action for the state. \n",
    "        Logical variable: True for random choice selected, False for best action selected.\n",
    "    \"\"\"\n",
    "    ######################\n",
    "    ### YOUR CODE HERE ###\n",
    "    ######################\n",
    "    if np.random.random() < epsilon:\n",
    "        #print(\">>>>>>>>>> RANDOM ACTION\")\n",
    "        random_choice = True\n",
    "        return np.random.choice(4), random_choice\n",
    "    else:\n",
    "        #print(\">>>>>>>>>> q_values[{}]: {}, BEST ACTION FOR CURRENT STATE: {}\" \\\n",
    "        #          .format(state, q_values[state], np.argmax(q_values[state])))\n",
    "        random_choice = False\n",
    "        return np.argmax(q_values[state]), random_choice\n",
    "    #######################\n",
    "    ### CODE ENDS HERE  ###\n",
    "    #######################"
   ]
  },
  {
   "cell_type": "code",
   "execution_count": 7,
   "metadata": {},
   "outputs": [],
   "source": [
    "def q_learning(env, num_episodes=500, exploration_rate=0.1, learning_rate=0.5, gamma=0.9):\n",
    "    \"\"\"\n",
    "    Q-Learning algorithm: Off-policy TD control. Finds the optimal greedy policy\n",
    "    while following an epsilon-greedy policy\n",
    "    \n",
    "    Args:\n",
    "        env: GridWorld environment for Cliff Walking.\n",
    "        num_episodes: Number of episodes to run for.\n",
    "        exploration_rate: Chance to sample a random action. Float between 0 and 1 (epsilon probability).\n",
    "        learning_rate: TD learning rate. Avoid big changes in only one update by slowly moving to the target.\n",
    "        gamma: A discount factor for future rewards.\n",
    "    \n",
    "    Returns:\n",
    "        ep_rewards: list of sum of rewards per episode\n",
    "        q_value: The optimal action-value function, a dictionary mapping state -> action values.\n",
    "    \"\"\"\n",
    "    ######################\n",
    "    ### YOUR CODE HERE ###\n",
    "    ######################\n",
    "    # The number of states in simply the number of \"squares\" in our grid world, in this case 4 * 12\n",
    "    num_states = 4 * 12\n",
    "    # We have 4 possible actions, up, down, right and left\n",
    "    num_actions = 4\n",
    "    \n",
    "    q_values = np.zeros((num_states, num_actions))\n",
    "    ep_rewards = []\n",
    "    \n",
    "    for e in range(num_episodes):\n",
    "        #print(\">>>>>>>>>>>>>>>>>>>>>>>>>>>>>>>>>>>>>>>>>>>>>>>>>>> NEW EPISODE\")\n",
    "        state, init_state_coord = env.reset()  \n",
    "        #print(\">>>> initial state: {}\".format(init_state_coord))\n",
    "        done = False\n",
    "        reward_sum = 0\n",
    "    \n",
    "        #feature_list = ['X','Y', 'COUNT_POS']\n",
    "        #zero_data = np.zeros(shape=(100,3))\n",
    "        #df_state_coord = pd.DataFrame(zero_data, columns=feature_list)\n",
    "        while not done:            \n",
    "            # Choose action (passing as state unique ID related to the row in the Dataframe?)\n",
    "            #print(\">>>>>> call egreedy_policy > state {}, exploration_rate: {}\".format(state, exploration_rate))\n",
    "            # best action returned: 0-UP, 1-DOWN, 2-RIGHT, 3-LEFT\n",
    "            action, random_choice = egreedy_policy(q_values, state, exploration_rate)\n",
    "            #print(\"<<<<<< call egreedy_policy returns action: {}\".format(action)) \n",
    "            # Do the action and return reward for this action\n",
    "            next_state_coord, next_state, reward, done = env.step(action)\n",
    "            #print(next_state_coord)\n",
    "            \n",
    "            #print(\">>>> next_state: {}, reward of this action from current state:{}, done: {}\" \\\n",
    "            #          .format(next_state, reward, done))\n",
    "            reward_sum += reward\n",
    "            #print(\">>>> reward_sum: {}\".format(reward_sum))\n",
    "            # Update q_values \n",
    "            # first, target is the reward of this action for current state plus best q-value for next state\n",
    "            td_target = reward + gamma * np.max(q_values[next_state])\n",
    "            #print(\">>>> td_target:{} = reward:{} + 0.9*q_values[{}]: {}\" \\\n",
    "            #              .format(td_target, reward, next_state, np.max(q_values[next_state])))\n",
    "            # second, error is the difference between target and q_value for current state and action\n",
    "            td_error = td_target - q_values[state][action]\n",
    "            #print(\">>>> td_error:{} = td_target:{} - 0.9*q_values[{}][{}]:{}\" \\\n",
    "            #              .format(td_error, td_target, state, action, q_values[state][action]))\n",
    "            # finally, q-value is learning rate times error\n",
    "            q_values[state][action] += learning_rate * td_error\n",
    "            #print(\">>>> q_values[{}][{}]:{} = learning_rate: {} * td_error: {}\" \\\n",
    "            #              .format(state, action,q_values[state][action], learning_rate, td_error))\n",
    "            # Update state\n",
    "            state = next_state\n",
    "\n",
    "            #if render:\n",
    "            #    env.render(q_values, action=actions[action], colorize_q=True)\n",
    "        \n",
    "        #if e < 10 or e > (num_episodes - 10):\n",
    "        #    print(\">>>>>>>>>> EPISODE {}\".format(e))\n",
    "        #    ax = sns.heatmap(df_state_coord, linewidth=0.5, cmap='gray_r', vmin=0, vmax=5, annot=True)\n",
    "        #    plt.show()\n",
    "        # save reward sum for each episode    \n",
    "        ep_rewards.append(reward_sum)\n",
    "    ######################\n",
    "    ### CODE ENDS HERE ###\n",
    "    ######################\n",
    "    return ep_rewards, q_values"
   ]
  },
  {
   "cell_type": "code",
   "execution_count": 8,
   "metadata": {},
   "outputs": [],
   "source": [
    "q_learning_rewards, q_values = q_learning(env, gamma=0.9, learning_rate=1)"
   ]
  },
  {
   "cell_type": "code",
   "execution_count": 9,
   "metadata": {},
   "outputs": [
    {
     "data": {
      "text/plain": [
       "-40.872"
      ]
     },
     "execution_count": 9,
     "metadata": {},
     "output_type": "execute_result"
    }
   ],
   "source": [
    "np.mean(q_learning_rewards)"
   ]
  },
  {
   "cell_type": "code",
   "execution_count": 10,
   "metadata": {},
   "outputs": [
    {
     "data": {
      "text/html": [
       "<div>\n",
       "<style scoped>\n",
       "    .dataframe tbody tr th:only-of-type {\n",
       "        vertical-align: middle;\n",
       "    }\n",
       "\n",
       "    .dataframe tbody tr th {\n",
       "        vertical-align: top;\n",
       "    }\n",
       "\n",
       "    .dataframe thead th {\n",
       "        text-align: right;\n",
       "    }\n",
       "</style>\n",
       "<table border=\"1\" class=\"dataframe\">\n",
       "  <thead>\n",
       "    <tr style=\"text-align: right;\">\n",
       "      <th></th>\n",
       "      <th>up</th>\n",
       "      <th>down</th>\n",
       "      <th>right</th>\n",
       "      <th>left</th>\n",
       "    </tr>\n",
       "    <tr>\n",
       "      <th>States</th>\n",
       "      <th></th>\n",
       "      <th></th>\n",
       "      <th></th>\n",
       "      <th></th>\n",
       "    </tr>\n",
       "  </thead>\n",
       "  <tbody>\n",
       "    <tr>\n",
       "      <th>0</th>\n",
       "      <td>-7.458134</td>\n",
       "      <td>-7.458134</td>\n",
       "      <td>-7.458134</td>\n",
       "      <td>-7.175705</td>\n",
       "    </tr>\n",
       "    <tr>\n",
       "      <th>1</th>\n",
       "      <td>-7.458134</td>\n",
       "      <td>-7.175705</td>\n",
       "      <td>-7.175705</td>\n",
       "      <td>-7.458134</td>\n",
       "    </tr>\n",
       "    <tr>\n",
       "      <th>2</th>\n",
       "      <td>-7.175705</td>\n",
       "      <td>-6.861894</td>\n",
       "      <td>-6.861894</td>\n",
       "      <td>-7.175705</td>\n",
       "    </tr>\n",
       "    <tr>\n",
       "      <th>3</th>\n",
       "      <td>-6.861894</td>\n",
       "      <td>-6.513216</td>\n",
       "      <td>-6.513216</td>\n",
       "      <td>-7.175705</td>\n",
       "    </tr>\n",
       "    <tr>\n",
       "      <th>4</th>\n",
       "      <td>-6.513216</td>\n",
       "      <td>-6.125795</td>\n",
       "      <td>-6.125795</td>\n",
       "      <td>-6.513216</td>\n",
       "    </tr>\n",
       "    <tr>\n",
       "      <th>5</th>\n",
       "      <td>-6.125795</td>\n",
       "      <td>-5.695328</td>\n",
       "      <td>-5.695328</td>\n",
       "      <td>-5.695328</td>\n",
       "    </tr>\n",
       "    <tr>\n",
       "      <th>6</th>\n",
       "      <td>-5.695328</td>\n",
       "      <td>-5.217031</td>\n",
       "      <td>-5.217031</td>\n",
       "      <td>-5.217031</td>\n",
       "    </tr>\n",
       "    <tr>\n",
       "      <th>7</th>\n",
       "      <td>-5.217031</td>\n",
       "      <td>-4.685590</td>\n",
       "      <td>-4.685590</td>\n",
       "      <td>-5.217031</td>\n",
       "    </tr>\n",
       "    <tr>\n",
       "      <th>8</th>\n",
       "      <td>-4.685590</td>\n",
       "      <td>-4.095100</td>\n",
       "      <td>-4.095100</td>\n",
       "      <td>-4.685590</td>\n",
       "    </tr>\n",
       "    <tr>\n",
       "      <th>9</th>\n",
       "      <td>-4.095100</td>\n",
       "      <td>-3.439000</td>\n",
       "      <td>-3.439000</td>\n",
       "      <td>-3.439000</td>\n",
       "    </tr>\n",
       "    <tr>\n",
       "      <th>10</th>\n",
       "      <td>-3.439000</td>\n",
       "      <td>-2.710000</td>\n",
       "      <td>-2.710000</td>\n",
       "      <td>-3.439000</td>\n",
       "    </tr>\n",
       "    <tr>\n",
       "      <th>11</th>\n",
       "      <td>-2.710000</td>\n",
       "      <td>-1.900000</td>\n",
       "      <td>-1.900000</td>\n",
       "      <td>-1.900000</td>\n",
       "    </tr>\n",
       "    <tr>\n",
       "      <th>12</th>\n",
       "      <td>-7.458134</td>\n",
       "      <td>-7.175705</td>\n",
       "      <td>-7.175705</td>\n",
       "      <td>-7.458134</td>\n",
       "    </tr>\n",
       "    <tr>\n",
       "      <th>13</th>\n",
       "      <td>-7.458134</td>\n",
       "      <td>-6.861894</td>\n",
       "      <td>-6.861894</td>\n",
       "      <td>-7.175705</td>\n",
       "    </tr>\n",
       "    <tr>\n",
       "      <th>14</th>\n",
       "      <td>-6.861894</td>\n",
       "      <td>-6.513216</td>\n",
       "      <td>-6.513216</td>\n",
       "      <td>-6.861894</td>\n",
       "    </tr>\n",
       "    <tr>\n",
       "      <th>15</th>\n",
       "      <td>-6.513216</td>\n",
       "      <td>-6.125795</td>\n",
       "      <td>-6.125795</td>\n",
       "      <td>-6.513216</td>\n",
       "    </tr>\n",
       "    <tr>\n",
       "      <th>16</th>\n",
       "      <td>-6.513216</td>\n",
       "      <td>-5.695328</td>\n",
       "      <td>-5.695328</td>\n",
       "      <td>-6.125795</td>\n",
       "    </tr>\n",
       "    <tr>\n",
       "      <th>17</th>\n",
       "      <td>-6.125795</td>\n",
       "      <td>-5.217031</td>\n",
       "      <td>-5.217031</td>\n",
       "      <td>-6.125795</td>\n",
       "    </tr>\n",
       "    <tr>\n",
       "      <th>18</th>\n",
       "      <td>-5.217031</td>\n",
       "      <td>-4.685590</td>\n",
       "      <td>-4.685590</td>\n",
       "      <td>-5.695328</td>\n",
       "    </tr>\n",
       "    <tr>\n",
       "      <th>19</th>\n",
       "      <td>-4.685590</td>\n",
       "      <td>-4.095100</td>\n",
       "      <td>-4.095100</td>\n",
       "      <td>-4.685590</td>\n",
       "    </tr>\n",
       "    <tr>\n",
       "      <th>20</th>\n",
       "      <td>-4.095100</td>\n",
       "      <td>-3.439000</td>\n",
       "      <td>-3.439000</td>\n",
       "      <td>-4.095100</td>\n",
       "    </tr>\n",
       "    <tr>\n",
       "      <th>21</th>\n",
       "      <td>-3.439000</td>\n",
       "      <td>-2.710000</td>\n",
       "      <td>-2.710000</td>\n",
       "      <td>-4.095100</td>\n",
       "    </tr>\n",
       "    <tr>\n",
       "      <th>22</th>\n",
       "      <td>-2.710000</td>\n",
       "      <td>-1.900000</td>\n",
       "      <td>-1.900000</td>\n",
       "      <td>-2.710000</td>\n",
       "    </tr>\n",
       "    <tr>\n",
       "      <th>23</th>\n",
       "      <td>-1.900000</td>\n",
       "      <td>-1.000000</td>\n",
       "      <td>-1.000000</td>\n",
       "      <td>-2.710000</td>\n",
       "    </tr>\n",
       "    <tr>\n",
       "      <th>24</th>\n",
       "      <td>-7.458134</td>\n",
       "      <td>-7.458134</td>\n",
       "      <td>-6.861894</td>\n",
       "      <td>-7.175705</td>\n",
       "    </tr>\n",
       "    <tr>\n",
       "      <th>25</th>\n",
       "      <td>-7.175705</td>\n",
       "      <td>-100.000000</td>\n",
       "      <td>-6.513216</td>\n",
       "      <td>-7.175705</td>\n",
       "    </tr>\n",
       "    <tr>\n",
       "      <th>26</th>\n",
       "      <td>-6.861894</td>\n",
       "      <td>-100.000000</td>\n",
       "      <td>-6.125795</td>\n",
       "      <td>-6.861894</td>\n",
       "    </tr>\n",
       "    <tr>\n",
       "      <th>27</th>\n",
       "      <td>-6.513216</td>\n",
       "      <td>-100.000000</td>\n",
       "      <td>-5.695328</td>\n",
       "      <td>-6.513216</td>\n",
       "    </tr>\n",
       "    <tr>\n",
       "      <th>28</th>\n",
       "      <td>-6.125795</td>\n",
       "      <td>-100.000000</td>\n",
       "      <td>-5.217031</td>\n",
       "      <td>-6.125795</td>\n",
       "    </tr>\n",
       "    <tr>\n",
       "      <th>29</th>\n",
       "      <td>-5.695328</td>\n",
       "      <td>-100.000000</td>\n",
       "      <td>-4.685590</td>\n",
       "      <td>-5.695328</td>\n",
       "    </tr>\n",
       "    <tr>\n",
       "      <th>30</th>\n",
       "      <td>-5.217031</td>\n",
       "      <td>-100.000000</td>\n",
       "      <td>-4.095100</td>\n",
       "      <td>-5.217031</td>\n",
       "    </tr>\n",
       "    <tr>\n",
       "      <th>31</th>\n",
       "      <td>-4.685590</td>\n",
       "      <td>-100.000000</td>\n",
       "      <td>-3.439000</td>\n",
       "      <td>-4.685590</td>\n",
       "    </tr>\n",
       "    <tr>\n",
       "      <th>32</th>\n",
       "      <td>-4.095100</td>\n",
       "      <td>-100.000000</td>\n",
       "      <td>-2.710000</td>\n",
       "      <td>-4.095100</td>\n",
       "    </tr>\n",
       "    <tr>\n",
       "      <th>33</th>\n",
       "      <td>-3.439000</td>\n",
       "      <td>-100.000000</td>\n",
       "      <td>-1.900000</td>\n",
       "      <td>-3.439000</td>\n",
       "    </tr>\n",
       "    <tr>\n",
       "      <th>34</th>\n",
       "      <td>-2.710000</td>\n",
       "      <td>-100.000000</td>\n",
       "      <td>-1.000000</td>\n",
       "      <td>-2.710000</td>\n",
       "    </tr>\n",
       "    <tr>\n",
       "      <th>35</th>\n",
       "      <td>-1.900000</td>\n",
       "      <td>0.000000</td>\n",
       "      <td>-1.000000</td>\n",
       "      <td>-1.900000</td>\n",
       "    </tr>\n",
       "    <tr>\n",
       "      <th>36</th>\n",
       "      <td>-7.175705</td>\n",
       "      <td>-7.458134</td>\n",
       "      <td>-100.000000</td>\n",
       "      <td>-7.458134</td>\n",
       "    </tr>\n",
       "    <tr>\n",
       "      <th>37</th>\n",
       "      <td>0.000000</td>\n",
       "      <td>0.000000</td>\n",
       "      <td>0.000000</td>\n",
       "      <td>0.000000</td>\n",
       "    </tr>\n",
       "    <tr>\n",
       "      <th>38</th>\n",
       "      <td>0.000000</td>\n",
       "      <td>0.000000</td>\n",
       "      <td>0.000000</td>\n",
       "      <td>0.000000</td>\n",
       "    </tr>\n",
       "    <tr>\n",
       "      <th>39</th>\n",
       "      <td>0.000000</td>\n",
       "      <td>0.000000</td>\n",
       "      <td>0.000000</td>\n",
       "      <td>0.000000</td>\n",
       "    </tr>\n",
       "    <tr>\n",
       "      <th>40</th>\n",
       "      <td>0.000000</td>\n",
       "      <td>0.000000</td>\n",
       "      <td>0.000000</td>\n",
       "      <td>0.000000</td>\n",
       "    </tr>\n",
       "    <tr>\n",
       "      <th>41</th>\n",
       "      <td>0.000000</td>\n",
       "      <td>0.000000</td>\n",
       "      <td>0.000000</td>\n",
       "      <td>0.000000</td>\n",
       "    </tr>\n",
       "    <tr>\n",
       "      <th>42</th>\n",
       "      <td>0.000000</td>\n",
       "      <td>0.000000</td>\n",
       "      <td>0.000000</td>\n",
       "      <td>0.000000</td>\n",
       "    </tr>\n",
       "    <tr>\n",
       "      <th>43</th>\n",
       "      <td>0.000000</td>\n",
       "      <td>0.000000</td>\n",
       "      <td>0.000000</td>\n",
       "      <td>0.000000</td>\n",
       "    </tr>\n",
       "    <tr>\n",
       "      <th>44</th>\n",
       "      <td>0.000000</td>\n",
       "      <td>0.000000</td>\n",
       "      <td>0.000000</td>\n",
       "      <td>0.000000</td>\n",
       "    </tr>\n",
       "    <tr>\n",
       "      <th>45</th>\n",
       "      <td>0.000000</td>\n",
       "      <td>0.000000</td>\n",
       "      <td>0.000000</td>\n",
       "      <td>0.000000</td>\n",
       "    </tr>\n",
       "    <tr>\n",
       "      <th>46</th>\n",
       "      <td>0.000000</td>\n",
       "      <td>0.000000</td>\n",
       "      <td>0.000000</td>\n",
       "      <td>0.000000</td>\n",
       "    </tr>\n",
       "    <tr>\n",
       "      <th>47</th>\n",
       "      <td>0.000000</td>\n",
       "      <td>0.000000</td>\n",
       "      <td>0.000000</td>\n",
       "      <td>0.000000</td>\n",
       "    </tr>\n",
       "  </tbody>\n",
       "</table>\n",
       "</div>"
      ],
      "text/plain": [
       "             up         down       right      left\n",
       "States                                            \n",
       "0      -7.458134   -7.458134   -7.458134 -7.175705\n",
       "1      -7.458134   -7.175705   -7.175705 -7.458134\n",
       "2      -7.175705   -6.861894   -6.861894 -7.175705\n",
       "3      -6.861894   -6.513216   -6.513216 -7.175705\n",
       "4      -6.513216   -6.125795   -6.125795 -6.513216\n",
       "5      -6.125795   -5.695328   -5.695328 -5.695328\n",
       "6      -5.695328   -5.217031   -5.217031 -5.217031\n",
       "7      -5.217031   -4.685590   -4.685590 -5.217031\n",
       "8      -4.685590   -4.095100   -4.095100 -4.685590\n",
       "9      -4.095100   -3.439000   -3.439000 -3.439000\n",
       "10     -3.439000   -2.710000   -2.710000 -3.439000\n",
       "11     -2.710000   -1.900000   -1.900000 -1.900000\n",
       "12     -7.458134   -7.175705   -7.175705 -7.458134\n",
       "13     -7.458134   -6.861894   -6.861894 -7.175705\n",
       "14     -6.861894   -6.513216   -6.513216 -6.861894\n",
       "15     -6.513216   -6.125795   -6.125795 -6.513216\n",
       "16     -6.513216   -5.695328   -5.695328 -6.125795\n",
       "17     -6.125795   -5.217031   -5.217031 -6.125795\n",
       "18     -5.217031   -4.685590   -4.685590 -5.695328\n",
       "19     -4.685590   -4.095100   -4.095100 -4.685590\n",
       "20     -4.095100   -3.439000   -3.439000 -4.095100\n",
       "21     -3.439000   -2.710000   -2.710000 -4.095100\n",
       "22     -2.710000   -1.900000   -1.900000 -2.710000\n",
       "23     -1.900000   -1.000000   -1.000000 -2.710000\n",
       "24     -7.458134   -7.458134   -6.861894 -7.175705\n",
       "25     -7.175705 -100.000000   -6.513216 -7.175705\n",
       "26     -6.861894 -100.000000   -6.125795 -6.861894\n",
       "27     -6.513216 -100.000000   -5.695328 -6.513216\n",
       "28     -6.125795 -100.000000   -5.217031 -6.125795\n",
       "29     -5.695328 -100.000000   -4.685590 -5.695328\n",
       "30     -5.217031 -100.000000   -4.095100 -5.217031\n",
       "31     -4.685590 -100.000000   -3.439000 -4.685590\n",
       "32     -4.095100 -100.000000   -2.710000 -4.095100\n",
       "33     -3.439000 -100.000000   -1.900000 -3.439000\n",
       "34     -2.710000 -100.000000   -1.000000 -2.710000\n",
       "35     -1.900000    0.000000   -1.000000 -1.900000\n",
       "36     -7.175705   -7.458134 -100.000000 -7.458134\n",
       "37      0.000000    0.000000    0.000000  0.000000\n",
       "38      0.000000    0.000000    0.000000  0.000000\n",
       "39      0.000000    0.000000    0.000000  0.000000\n",
       "40      0.000000    0.000000    0.000000  0.000000\n",
       "41      0.000000    0.000000    0.000000  0.000000\n",
       "42      0.000000    0.000000    0.000000  0.000000\n",
       "43      0.000000    0.000000    0.000000  0.000000\n",
       "44      0.000000    0.000000    0.000000  0.000000\n",
       "45      0.000000    0.000000    0.000000  0.000000\n",
       "46      0.000000    0.000000    0.000000  0.000000\n",
       "47      0.000000    0.000000    0.000000  0.000000"
      ]
     },
     "execution_count": 10,
     "metadata": {},
     "output_type": "execute_result"
    }
   ],
   "source": [
    "df_q_values = pd.DataFrame(q_values, columns=[' up ', 'down', 'right', 'left'])\n",
    "df_q_values.index.name = 'States'\n",
    "df_q_values"
   ]
  },
  {
   "cell_type": "markdown",
   "metadata": {},
   "source": [
    "## Question 2\n",
    "You have used the ϵ-greedy function below in your algorithm. <br/>\n",
    "Explain why is important to implement **exploration** in this algorithm ϵ-greedy that you've used."
   ]
  },
  {
   "cell_type": "markdown",
   "metadata": {},
   "source": [
    "## Question 2 Answer ###\n",
    "Reinforcement learning requires a balance between exploration and exploitation.<br/>\n",
    "**Exploitation** is the right thing to do to maximize the expected reward on one\n",
    "step, but **exploration** may produce the greater total reward in the long run. <br/>\n",
    "For example, suppose a greedy action’s value is known with certainty, while several other actions are estimated to be nearly as good but with substantial uncertainty. <br/>\n",
    "The uncertainty is such that at least one of these other actions probably is actually better than the greedy action, but you don’t know which one. <br/>\n",
    "If you have many time steps ahead on which to make action selections, then it may be better to explore the nongreedy actions and discover which of them are better than the greedy action. <br/>\n",
    "Reward is lower in the short run, during exploration, but higher in the long run because after you have discovered\n",
    "the better actions, you can exploit them many times."
   ]
  },
  {
   "cell_type": "markdown",
   "metadata": {},
   "source": [
    "## Question 3\n",
    "Execute the function Q-learning 10 times. <br/>\n",
    "Take the average reward for each step over these 10 executions and plot this Average Reward vs Episodes, to see how the rewards evolve through the episodes.<br/>\n",
    "Show, in the same plot, the line representing the mean of rewards above related to all episodes, as a reference."
   ]
  },
  {
   "cell_type": "code",
   "execution_count": 11,
   "metadata": {},
   "outputs": [
    {
     "name": "stdout",
     "output_type": "stream",
     "text": [
      "Mean Reward: -39.91460000000001\n"
     ]
    },
    {
     "data": {
      "image/png": "[encoded data removed]",
      "text/plain": [
       "<Figure size 432x288 with 1 Axes>"
      ]
     },
     "metadata": {
      "needs_background": "light"
     },
     "output_type": "display_data"
    }
   ],
   "source": [
    "q_learning_rewards, _ = zip(*[q_learning(env, exploration_rate=0.1,\n",
    "                                         learning_rate=1) for _ in range(10)])\n",
    "# average rewards for each episode, related to 10 runs of Q-learning function\n",
    "avg_rewards = np.mean(q_learning_rewards, axis=0)\n",
    "#print(\"avg_rewards: {}\".format(avg_rewards))\n",
    "mean_reward = [np.mean(avg_rewards)] * len(avg_rewards)\n",
    "#print(\"np.mean(avg_rewards): {}, len(avg_rewards): {}\".format(np.mean(avg_rewards), len(avg_rewards)))\n",
    "#print(\"mean_reward: {}\".format(mean_reward))\n",
    "fig, ax = plt.subplots()\n",
    "ax.set_xlabel('Episodes')\n",
    "ax.set_ylabel('Rewards')\n",
    "ax.plot(avg_rewards)\n",
    "ax.plot(mean_reward, 'g--')\n",
    "\n",
    "print('Mean Reward: {}'.format(mean_reward[0]))"
   ]
  },
  {
   "cell_type": "markdown",
   "metadata": {},
   "source": [
    "### Question 3 Remarks\n",
    "You can see that the learning process rapidly goes to the maximum mean reward after about 50 episodes (for this sparticular problem, around -40) and keeps floating around the average after that."
   ]
  },
  {
   "cell_type": "markdown",
   "metadata": {},
   "source": [
    "## Question 4\n",
    "Modify the function q_learning that you have just created to plot for each episode a heatmap showing how many times a position in the grid is visited.<br/>\n",
    "Print only the first 10 and the last 10 episodes form the total of 500 episodes. <br/>\n",
    "Yor heatmap should represent our Cliff Walking grid like the example below:\n",
    "<table><tr><td><img src=\"../images/QL-episode5.png\" alt=\"Drawing\" style=\"width: 300px;\"/></td></tr></table>\n",
    "\n",
    "Note that: \n",
    "+ Position (3,0): initial position\n",
    "+ Position (3,11): terminal position\n",
    "+ Position (3,1) to (3,10): cliff\n",
    "\n",
    "\n",
    "+ Explain what you've observed about the pattern evolution related to the positions visited over the episodes. <br/>\n",
    "\n",
    "### Optional\n",
    "Force a bigger number for positions visited by exploratory steps (like 100) to better observe them on the heatmap.\n"
   ]
  },
  {
   "cell_type": "code",
   "execution_count": 12,
   "metadata": {},
   "outputs": [],
   "source": [
    "def q_learning_with_heatmap(env, num_episodes=500, exploration_rate=0.1, learning_rate=0.5, gamma=0.9):\n",
    "    \"\"\"\n",
    "    Q-Learning algorithm: Off-policy TD control. Finds the optimal greedy policy\n",
    "    while following an epsilon-greedy policy\n",
    "    \n",
    "    Args:\n",
    "        env: GridWorld environment for Cliff Walking.\n",
    "        num_episodes: Number of episodes to run for.\n",
    "        exploration_rate: Chance to sample a random action. Float between 0 and 1 (epsilon probability).\n",
    "        learning_rate: TD learning rate. Avoid big changes in only one update by slowly moving to the target.\n",
    "        gamma: A discount factor for future rewards.\n",
    "    \n",
    "    Returns:\n",
    "        ep_rewards: list of sum of rewards per episode\n",
    "        q_value: The optimal action-value function, a dictionary mapping state -> action values.\n",
    "    \"\"\"\n",
    "    # The number of states in simply the number of \"squares\" in our grid world, in this case 4 * 12\n",
    "    num_states = 4 * 12\n",
    "    # We have 4 possible actions, up, down, right and left\n",
    "    num_actions = 4\n",
    "    q_values = np.zeros((num_states, num_actions))\n",
    "    ep_rewards = []\n",
    "    \n",
    "    for e in range(num_episodes):\n",
    "        #print(\">>>>>>>>>>>>>>>>>>>>>>>>>>>>>>>>>>>>>>>>>>>>>>>>>>> NEW EPISODE\")\n",
    "        state, init_state_coord = env.reset()  \n",
    "        #print(\">>>> initial state: {}\".format(init_state_coord))\n",
    "        done = False\n",
    "        reward_sum = 0\n",
    "        # dataframe 2D for nextsteps (with buble plot for position?)\n",
    "        feature_list = ['0','1', '2', '3', '4', '5', '6', '7', '8', '9', '10', '11']\n",
    "        zero_data = np.zeros(shape=(4,12))\n",
    "        df_state_coord = pd.DataFrame(zero_data, columns=feature_list)\n",
    "        # for the initial state\n",
    "        df_state_coord.iloc[init_state_coord[0], init_state_coord[1]] = 1\n",
    "        #feature_list = ['X','Y', 'COUNT_POS']\n",
    "        #zero_data = np.zeros(shape=(100,3))\n",
    "        #df_state_coord = pd.DataFrame(zero_data, columns=feature_list)\n",
    "        while not done:            \n",
    "            # Choose action (passing as state unique ID related to the row in the Dataframe?)\n",
    "            #print(\">>>>>> call egreedy_policy > state {}, exploration_rate: {}\".format(state, exploration_rate))\n",
    "            # best action returned: 0-UP, 1-DOWN, 2-RIGHT, 3-LEFT\n",
    "            action, random_choice = egreedy_policy(q_values, state, exploration_rate)\n",
    "            #print(\"<<<<<< call egreedy_policy returns action: {}\".format(action)) \n",
    "            # Do the action and return reward for this action\n",
    "            next_state_coord, next_state, reward, done = env.step(action)\n",
    "            #print(next_state_coord)\n",
    "            if random_choice:\n",
    "                df_state_coord.iloc[next_state_coord[0], next_state_coord[1]] = 100\n",
    "            else:\n",
    "                df_state_coord.iloc[next_state_coord[0], next_state_coord[1]] += 1\n",
    "            \n",
    "            #print(\">>>> next_state: {}, reward of this action from current state:{}, done: {}\" \\\n",
    "            #          .format(next_state, reward, done))\n",
    "            reward_sum += reward\n",
    "            #print(\">>>> reward_sum: {}\".format(reward_sum))\n",
    "            # Update q_values \n",
    "            # first, target is the reward of this action for current state plus best q-value for next state\n",
    "            td_target = reward + gamma * np.max(q_values[next_state])\n",
    "            #print(\">>>> td_target:{} = reward:{} + 0.9*q_values[{}]: {}\" \\\n",
    "            #              .format(td_target, reward, next_state, np.max(q_values[next_state])))\n",
    "            # second, error is the difference between target and q_value for current state and action\n",
    "            td_error = td_target - q_values[state][action]\n",
    "            #print(\">>>> td_error:{} = td_target:{} - 0.9*q_values[{}][{}]:{}\" \\\n",
    "            #              .format(td_error, td_target, state, action, q_values[state][action]))\n",
    "            # finally, q-value is learning rate times error\n",
    "            q_values[state][action] += learning_rate * td_error\n",
    "            #print(\">>>> q_values[{}][{}]:{} = learning_rate: {} * td_error: {}\" \\\n",
    "            #              .format(state, action,q_values[state][action], learning_rate, td_error))\n",
    "            # Update state\n",
    "            state = next_state\n",
    "\n",
    "            #if render:\n",
    "            #    env.render(q_values, action=actions[action], colorize_q=True)\n",
    "        \n",
    "        if e < 10 or e > (num_episodes - 10):\n",
    "            #print(\">>>>>>>>>> EPISODE {}\".format(e))\n",
    "            ax = sns.heatmap(df_state_coord, linewidth=0.5, cmap='gray_r', vmin=0, vmax=5, annot=True)\n",
    "            plt.title(\"EPISODE \" + str(e))\n",
    "            plt.show()\n",
    "        # save reward sum for each episode    \n",
    "        ep_rewards.append(reward_sum)\n",
    "    \n",
    "    return ep_rewards, q_values"
   ]
  },
  {
   "cell_type": "code",
   "execution_count": null,
   "metadata": {},
   "outputs": [
    {
     "data": {
      "image/png": "[encoded data removed]",
      "text/plain": [
       "<Figure size 432x288 with 2 Axes>"
      ]
     },
     "metadata": {
      "needs_background": "light"
     },
     "output_type": "display_data"
    },
    {
     "data": {
      "image/png": "[encoded data removed]",
      "text/plain": [
       "<Figure size 432x288 with 2 Axes>"
      ]
     },
     "metadata": {
      "needs_background": "light"
     },
     "output_type": "display_data"
    },
    {
     "data": {
      "image/png": "[encoded data removed]",
      "text/plain": [
       "<Figure size 432x288 with 2 Axes>"
      ]
     },
     "metadata": {
      "needs_background": "light"
     },
     "output_type": "display_data"
    },
    {
     "data": {
      "image/png": "[encoded data removed]",
      "text/plain": [
       "<Figure size 432x288 with 2 Axes>"
      ]
     },
     "metadata": {
      "needs_background": "light"
     },
     "output_type": "display_data"
    },
    {
     "data": {
      "image/png": "[encoded data removed]",
      "text/plain": [
       "<Figure size 432x288 with 2 Axes>"
      ]
     },
     "metadata": {
      "needs_background": "light"
     },
     "output_type": "display_data"
    },
    {
     "data": {
      "image/png": "[encoded data removed]",
      "text/plain": [
       "<Figure size 432x288 with 2 Axes>"
      ]
     },
     "metadata": {
      "needs_background": "light"
     },
     "output_type": "display_data"
    },
    {
     "data": {
      "image/png": "[encoded data removed]",
      "text/plain": [
       "<Figure size 432x288 with 2 Axes>"
      ]
     },
     "metadata": {
      "needs_background": "light"
     },
     "output_type": "display_data"
    },
    {
     "data": {
      "image/png": "[encoded data removed]",
      "text/plain": [
       "<Figure size 432x288 with 2 Axes>"
      ]
     },
     "metadata": {
      "needs_background": "light"
     },
     "output_type": "display_data"
    },
    {
     "data": {
      "image/png": "[encoded data removed]",
      "text/plain": [
       "<Figure size 432x288 with 2 Axes>"
      ]
     },
     "metadata": {
      "needs_background": "light"
     },
     "output_type": "display_data"
    },
    {
     "data": {
      "image/png": "[encoded data removed]",
      "text/plain": [
       "<Figure size 432x288 with 2 Axes>"
      ]
     },
     "metadata": {
      "needs_background": "light"
     },
     "output_type": "display_data"
    },
    {
     "data": {
      "image/png": "[encoded data removed]",
      "text/plain": [
       "<Figure size 432x288 with 2 Axes>"
      ]
     },
     "metadata": {
      "needs_background": "light"
     },
     "output_type": "display_data"
    },
    {
     "data": {
      "image/png": "[encoded data removed]",
      "text/plain": [
       "<Figure size 432x288 with 2 Axes>"
      ]
     },
     "metadata": {
      "needs_background": "light"
     },
     "output_type": "display_data"
    },
    {
     "data": {
      "image/png": "[encoded data removed]",
      "text/plain": [
       "<Figure size 432x288 with 2 Axes>"
      ]
     },
     "metadata": {
      "needs_background": "light"
     },
     "output_type": "display_data"
    },
    {
     "data": {
      "image/png": "[encoded data removed]",
      "text/plain": [
       "<Figure size 432x288 with 2 Axes>"
      ]
     },
     "metadata": {
      "needs_background": "light"
     },
     "output_type": "display_data"
    },
    {
     "data": {
      "image/png": "[encoded data removed]",
      "text/plain": [
       "<Figure size 432x288 with 2 Axes>"
      ]
     },
     "metadata": {
      "needs_background": "light"
     },
     "output_type": "display_data"
    },
    {
     "data": {
      "image/png": "[encoded data removed]",
      "text/plain": [
       "<Figure size 432x288 with 2 Axes>"
      ]
     },
     "metadata": {
      "needs_background": "light"
     },
     "output_type": "display_data"
    },
    {
     "data": {
      "image/png": "[encoded data removed]",
      "text/plain": [
       "<Figure size 432x288 with 2 Axes>"
      ]
     },
     "metadata": {
      "needs_background": "light"
     },
     "output_type": "display_data"
    },
    {
     "data": {
      "image/png": "[encoded data removed]",
      "text/plain": [
       "<Figure size 432x288 with 2 Axes>"
      ]
     },
     "metadata": {
      "needs_background": "light"
     },
     "output_type": "display_data"
    }
   ],
   "source": [
    "q_learning_rewards, q_values = q_learning_with_heatmap(env, gamma=0.9, learning_rate=1)"
   ]
  },
  {
   "cell_type": "markdown",
   "metadata": {},
   "source": [
    "## Question 4 answer\n",
    "We can see that, for the first episodes, although the actions keep bouncing and revisiting previous positions, we can clearly observe a trend to expand from the original position. <br/>\n",
    "Also, these first episodes fail to reach the terminal position, ending prematuraly by hitting the cliff cells. <br/>\n",
    "\n",
    "<table><tr><td><img src=\"../images/QL-episode0.png\" alt=\"Drawing\" style=\"width: 200px;\"/></td>\n",
    "                        <td><img src=\"../images/QL-episode3.png\" alt=\"Drawing\" style=\"width: 200px;\"/></td>\n",
    "                        <td><img src=\"../images/QL-episode5.png\" alt=\"Drawing\" style=\"width: 200px;\"/></td>\n",
    "                        <td><img src=\"../images/QL-episode6.png\" alt=\"Drawing\" style=\"width: 200px;\"/></td>\n",
    "    </tr></table>\n",
    "\n",
    "For the last 10 episodes, we can see that the model has learned the best path, but still can ending prematuraly due to random choice being used.\n",
    "<table><tr><td><img src=\"../images/QL-episode496.png\" alt=\"Drawing\" style=\"width: 200px;\"/></td>\n",
    "                        <td><img src=\"../images/QL-episode499.png\" alt=\"Drawing\" style=\"width: 200px;\"/></td>\n",
    "</tr></table>"
   ]
  },
  {
   "cell_type": "markdown",
   "metadata": {},
   "source": [
    "# PART 2 - On Policy TD Control"
   ]
  },
  {
   "cell_type": "markdown",
   "metadata": {},
   "source": [
    "**On Policy** means that the learning agent learns the value function according to the current action derived from the policy currently being used.\n",
    "\n",
    "Again, consider that: \n",
    "+ **Update policy** is how your agent learns the optimal policy.\n",
    "+ **Behavior policy** is how your agent behaves.\n",
    "\n",
    "In SARSA, the agent learns optimal policy and behaves using the same policy such as ϵ-greedy policy. \n",
    "\n",
    "As the *update policy* is the same to the *behavior policy*, SARSA is called **On-policy**. <br/>\n",
    "\n",
    "The difference can be observed comparing the SARSA update equation with the previous one that you used for Q-learning:\n",
    "\n",
    "<img src=\"../images/Q-learning_SARSA.png\" alt=\"Drawing\" style=\"width: 400px;\"/>\n",
    "\n",
    "Here, the update equation for SARSA depends on the current state, current action, reward obtained, next state and next action. <br/>\n",
    "This observation lead to the naming of the learning technique as SARSA stands for State Action Reward State Action which symbolizes the tuple (s, a, r, s’, a’)."
   ]
  },
  {
   "cell_type": "markdown",
   "metadata": {},
   "source": [
    "## Question 5\n",
    "Based on the code that you have created for your Q-learning function in the last question (the one that implemented the hetmap for each episode), implement a SARSA function that runs for **500 episodes**, with **exploration rate** = 0.1, **learning rate** = 0.5 and **gamma** = 0.9. <br/>\n",
    "\n",
    "This function should return a list with the **sum of rewards of each episode** and the **final Q-value table**.<br/>\n",
    "\n",
    "+ Looking at the final 10 episodes, can you explain the main difference observed bettwen the SARSA and Q-learning heatmaps?\n",
    "\n",
    "You are going to use the Q-learning pseudo-code from Sutton’s book as a guide.\n",
    "<img src=\"../images/Q-learning.png\" alt=\"Drawing\" style=\"width: 700px;\"/>"
   ]
  },
  {
   "cell_type": "code",
   "execution_count": null,
   "metadata": {},
   "outputs": [],
   "source": [
    "\n",
    "def sarsa_with_heatmap(env, num_episodes=500, exploration_rate=0.1,\n",
    "          learning_rate=0.5, gamma=0.9):\n",
    "    \"\"\"\n",
    "    SARSA algorithm: On-policy TD control. Finds the optimal greedy policy\n",
    "    while following an epsilon-greedy policy\n",
    "    \n",
    "    Args:\n",
    "        env: GridWorld environment for Cliff Walking.\n",
    "        num_episodes: Number of episodes to run for.\n",
    "        exploration_rate: Chance to sample a random action. Float between 0 and 1 (epsilon probability).\n",
    "        learning_rate: TD learning rate. Avoid big changes in only one update by slowly moving to the target.\n",
    "        gamma: A discount factor for future rewards.\n",
    "    \n",
    "    Returns:\n",
    "        ep_rewards: list of sum of rewards per episode\n",
    "        q_value: The optimal action-value function, a dictionary mapping state -> action values.\n",
    "    \"\"\"\n",
    "    # The number of states in simply the number of \"squares\" in our grid world, in this case 4 * 12\n",
    "    num_states = 4 * 12\n",
    "    # We have 4 possible actions, up, down, right and left\n",
    "    num_actions = 4\n",
    "    q_values_sarsa = np.zeros((num_states, num_actions))\n",
    "    ep_rewards = []\n",
    "    \n",
    "    for e in range(num_episodes):\n",
    "        state, init_state_coord = env.reset()    \n",
    "        done = False\n",
    "        reward_sum = 0\n",
    "        # Choose action        \n",
    "        action, random_choice = egreedy_policy(q_values_sarsa, state, exploration_rate)\n",
    "         # dataframe 2D for nextsteps (with buble plot for position?)\n",
    "        feature_list = ['0','1', '2', '3', '4', '5', '6', '7', '8', '9', '10', '11']\n",
    "        zero_data = np.zeros(shape=(4,12))\n",
    "        df_state_coord = pd.DataFrame(zero_data, columns=feature_list)\n",
    "        # for the initial state\n",
    "        df_state_coord.iloc[init_state_coord[0], init_state_coord[1]] = 1\n",
    "\n",
    "        while not done:        \n",
    "            # Do the action\n",
    "            next_state_coord, next_state, reward, done = env.step(action)\n",
    "            reward_sum += reward\n",
    "            if random_choice:\n",
    "                df_state_coord.iloc[next_state_coord[0], next_state_coord[1]] = 100\n",
    "            else:\n",
    "                df_state_coord.iloc[next_state_coord[0], next_state_coord[1]] += 1\n",
    "            \n",
    "            # Choose next action\n",
    "            next_action, random_choice = egreedy_policy(q_values_sarsa, next_state, exploration_rate)\n",
    "            # Next q value is the value of the next action\n",
    "            # not max like, q value same action on next state\n",
    "            td_target = reward + gamma * q_values_sarsa[next_state][next_action]\n",
    "            td_error = td_target - q_values_sarsa[state][action]\n",
    "            # Update q value\n",
    "            q_values_sarsa[state][action] += learning_rate * td_error\n",
    "\n",
    "            # Update state and action        \n",
    "            state = next_state\n",
    "            action = next_action\n",
    "            \n",
    "            #if render:\n",
    "            #    env.render(q_values, action=actions[action], colorize_q=True)\n",
    "            #    env.render(q_values, action=actions[action], colorize_q=True)\n",
    "        if e < 10 or e > (num_episodes - 10):\n",
    "            #print(\">>>>>>>>>> EPISODE {}\".format(e))\n",
    "            ax = sns.heatmap(df_state_coord, linewidth=0.5, cmap='gray_r', vmin=0, vmax=5, annot=True)\n",
    "            plt.title(\"EPISODE \" + str(e))\n",
    "            plt.show()                \n",
    "        ep_rewards.append(reward_sum)\n",
    "        \n",
    "    return ep_rewards, q_values_sarsa"
   ]
  },
  {
   "cell_type": "code",
   "execution_count": null,
   "metadata": {},
   "outputs": [],
   "source": [
    "sarsa_rewards, q_values_sarsa = sarsa_with_heatmap(env, learning_rate=0.5, gamma=0.99)"
   ]
  },
  {
   "cell_type": "markdown",
   "metadata": {},
   "source": [
    "## Question 5 answer\n",
    "Q-Learning with ϵ-greedy action learns the value for optimal policy but sometimes it will fall off due to ϵ-greedy exploration action. For SARSA, on the other hand, ϵ-greedy action learns the value for a less optimal policy but it is a safer policy.\n",
    "<img src=\"../images/SARSAvsQlearning.png\" alt=\"Drawing\" style=\"width: 400px;\"/>\n",
    "\n",
    "You can compare the heatmaps from your Q-learning and SARSA implementations, for the last episodes, and confirm this  behavior. <br/>\n",
    "\n",
    "### Q-learning Heatmaps for the last episodes\n",
    "\n",
    "<table><tr><td><img src=\"../images/QL-episode496.png\" alt=\"Drawing\" style=\"width: 200px;\"/></td>\n",
    "                        <td><img src=\"../images/QL-episode499.png\" alt=\"Drawing\" style=\"width: 200px;\"/></td>\n",
    "</tr></table>\n",
    "\n",
    "### SARSA Heatmaps for the last episodes\n",
    "\n",
    "<table><tr><td><img src=\"../images/SARSA-episode498.png\" alt=\"Drawing\" style=\"width: 200px;\"/></td>\n",
    "                        <td><img src=\"../images/SARSA-episode499.png\" alt=\"Drawing\" style=\"width: 200px;\"/></td>\n",
    "</tr></table>\n",
    "\n",
    "Q-learning implements the best policy (near the cliff), risking fall off the cliff when exploring. <br/>\n",
    "SARSA, on the other hand, assumes the safer path (as away from the cliff as possible), not necessarily the best policy.\n"
   ]
  },
  {
   "cell_type": "markdown",
   "metadata": {},
   "source": []
  }
 ],
 "metadata": {
  "kernelspec": {
   "display_name": "conda_amazonei_mxnet_p36",
   "language": "python",
   "name": "conda_amazonei_mxnet_p36"
  },
  "language_info": {
   "codemirror_mode": {
    "name": "ipython",
    "version": 3
   },
   "file_extension": ".py",
   "mimetype": "text/x-python",
   "name": "python",
   "nbconvert_exporter": "python",
   "pygments_lexer": "ipython3",
   "version": "3.6.13"
  }
 },
 "nbformat": 4,
 "nbformat_minor": 4
}
